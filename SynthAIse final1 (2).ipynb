{
 "cells": [
  {
   "cell_type": "code",
   "execution_count": 1,
   "id": "6f9750c5",
   "metadata": {},
   "outputs": [],
   "source": [
    "import pandas as pd\n",
    "import numpy as np\n",
    "import matplotlib.pyplot as plt"
   ]
  },
  {
   "cell_type": "code",
   "execution_count": 2,
   "id": "1933bd72",
   "metadata": {},
   "outputs": [],
   "source": [
    "data = pd.read_csv(\"C:/Users/makerofdreams/Downloads/assignment_data.csv\")"
   ]
  },
  {
   "cell_type": "code",
   "execution_count": 3,
   "id": "13e99d07",
   "metadata": {},
   "outputs": [
    {
     "data": {
      "text/html": [
       "<div>\n",
       "<style scoped>\n",
       "    .dataframe tbody tr th:only-of-type {\n",
       "        vertical-align: middle;\n",
       "    }\n",
       "\n",
       "    .dataframe tbody tr th {\n",
       "        vertical-align: top;\n",
       "    }\n",
       "\n",
       "    .dataframe thead th {\n",
       "        text-align: right;\n",
       "    }\n",
       "</style>\n",
       "<table border=\"1\" class=\"dataframe\">\n",
       "  <thead>\n",
       "    <tr style=\"text-align: right;\">\n",
       "      <th></th>\n",
       "      <th>Molecule ChEMBL ID</th>\n",
       "      <th>Smiles</th>\n",
       "      <th>IC50</th>\n",
       "    </tr>\n",
       "  </thead>\n",
       "  <tbody>\n",
       "    <tr>\n",
       "      <th>0</th>\n",
       "      <td>CHEMBL103307</td>\n",
       "      <td>O=C1Nc2ccccc2/C1=C\\c1ccc(O)cc1</td>\n",
       "      <td>1800.0</td>\n",
       "    </tr>\n",
       "    <tr>\n",
       "      <th>1</th>\n",
       "      <td>CHEMBL602074</td>\n",
       "      <td>Cc1cc(C)c(/C=C2\\C(=O)Nc3ccc(-c4cccnc4)cc32)[nH]1</td>\n",
       "      <td>2300.0</td>\n",
       "    </tr>\n",
       "    <tr>\n",
       "      <th>2</th>\n",
       "      <td>CHEMBL222728</td>\n",
       "      <td>Nc1n[nH]c2cccc(-c3ccc(NC(=O)Nc4cccc(Br)c4)cc3)c12</td>\n",
       "      <td>106.0</td>\n",
       "    </tr>\n",
       "    <tr>\n",
       "      <th>3</th>\n",
       "      <td>CHEMBL221053</td>\n",
       "      <td>CCc1cccc(NC(=O)Nc2ccc(-c3cccc4[nH]nc(N)c34)cc2)c1</td>\n",
       "      <td>55.0</td>\n",
       "    </tr>\n",
       "    <tr>\n",
       "      <th>4</th>\n",
       "      <td>CHEMBL1336</td>\n",
       "      <td>CNC(=O)c1cc(Oc2ccc(NC(=O)Nc3ccc(Cl)c(C(F)(F)F)...</td>\n",
       "      <td>58.0</td>\n",
       "    </tr>\n",
       "    <tr>\n",
       "      <th>...</th>\n",
       "      <td>...</td>\n",
       "      <td>...</td>\n",
       "      <td>...</td>\n",
       "    </tr>\n",
       "    <tr>\n",
       "      <th>2994</th>\n",
       "      <td>CHEMBL3814654</td>\n",
       "      <td>O=C1c2cc(-c3cn[nH]c3)ccc2-c2[nH]c3cc(-c4cn[nH]...</td>\n",
       "      <td>126.0</td>\n",
       "    </tr>\n",
       "    <tr>\n",
       "      <th>2995</th>\n",
       "      <td>CHEMBL3793933</td>\n",
       "      <td>CN(C)C(=O)c1ccc(NC(=O)c2n[nH]c3ccccc23)cc1</td>\n",
       "      <td>110.0</td>\n",
       "    </tr>\n",
       "    <tr>\n",
       "      <th>2996</th>\n",
       "      <td>CHEMBL5072454</td>\n",
       "      <td>COc1cc(N2CCCC2)ccc1NC(=O)c1cnn2ccc(N[C@@H]3CCC...</td>\n",
       "      <td>7.1</td>\n",
       "    </tr>\n",
       "    <tr>\n",
       "      <th>2997</th>\n",
       "      <td>CHEMBL5094510</td>\n",
       "      <td>O=C(Nc1ccc(N2CCOCC2)cc1)c1cnn2ccc(N[C@@H]3CCCN...</td>\n",
       "      <td>21.6</td>\n",
       "    </tr>\n",
       "    <tr>\n",
       "      <th>2998</th>\n",
       "      <td>CHEMBL5089908</td>\n",
       "      <td>CN1CCC[C@@H](Nc2ccn3ncc(C(=O)Nc4ccc(N5CCOCC5)c...</td>\n",
       "      <td>180.8</td>\n",
       "    </tr>\n",
       "  </tbody>\n",
       "</table>\n",
       "<p>2999 rows × 3 columns</p>\n",
       "</div>"
      ],
      "text/plain": [
       "     Molecule ChEMBL ID                                             Smiles  \\\n",
       "0          CHEMBL103307                     O=C1Nc2ccccc2/C1=C\\c1ccc(O)cc1   \n",
       "1          CHEMBL602074   Cc1cc(C)c(/C=C2\\C(=O)Nc3ccc(-c4cccnc4)cc32)[nH]1   \n",
       "2          CHEMBL222728  Nc1n[nH]c2cccc(-c3ccc(NC(=O)Nc4cccc(Br)c4)cc3)c12   \n",
       "3          CHEMBL221053  CCc1cccc(NC(=O)Nc2ccc(-c3cccc4[nH]nc(N)c34)cc2)c1   \n",
       "4            CHEMBL1336  CNC(=O)c1cc(Oc2ccc(NC(=O)Nc3ccc(Cl)c(C(F)(F)F)...   \n",
       "...                 ...                                                ...   \n",
       "2994      CHEMBL3814654  O=C1c2cc(-c3cn[nH]c3)ccc2-c2[nH]c3cc(-c4cn[nH]...   \n",
       "2995      CHEMBL3793933         CN(C)C(=O)c1ccc(NC(=O)c2n[nH]c3ccccc23)cc1   \n",
       "2996      CHEMBL5072454  COc1cc(N2CCCC2)ccc1NC(=O)c1cnn2ccc(N[C@@H]3CCC...   \n",
       "2997      CHEMBL5094510  O=C(Nc1ccc(N2CCOCC2)cc1)c1cnn2ccc(N[C@@H]3CCCN...   \n",
       "2998      CHEMBL5089908  CN1CCC[C@@H](Nc2ccn3ncc(C(=O)Nc4ccc(N5CCOCC5)c...   \n",
       "\n",
       "        IC50  \n",
       "0     1800.0  \n",
       "1     2300.0  \n",
       "2      106.0  \n",
       "3       55.0  \n",
       "4       58.0  \n",
       "...      ...  \n",
       "2994   126.0  \n",
       "2995   110.0  \n",
       "2996     7.1  \n",
       "2997    21.6  \n",
       "2998   180.8  \n",
       "\n",
       "[2999 rows x 3 columns]"
      ]
     },
     "execution_count": 3,
     "metadata": {},
     "output_type": "execute_result"
    }
   ],
   "source": [
    "data"
   ]
  },
  {
   "cell_type": "code",
   "execution_count": 4,
   "id": "60f40e48",
   "metadata": {},
   "outputs": [
    {
     "data": {
      "text/plain": [
       "Molecule ChEMBL ID    0\n",
       "Smiles                0\n",
       "IC50                  0\n",
       "dtype: int64"
      ]
     },
     "execution_count": 4,
     "metadata": {},
     "output_type": "execute_result"
    }
   ],
   "source": [
    "# data cleaning \n",
    "data.isna().sum()"
   ]
  },
  {
   "cell_type": "code",
   "execution_count": 5,
   "id": "01a571a8",
   "metadata": {},
   "outputs": [
    {
     "data": {
      "text/plain": [
       "(2999, 3)"
      ]
     },
     "execution_count": 5,
     "metadata": {},
     "output_type": "execute_result"
    }
   ],
   "source": [
    "data.shape"
   ]
  },
  {
   "cell_type": "code",
   "execution_count": 6,
   "id": "a6fc820f",
   "metadata": {},
   "outputs": [
    {
     "data": {
      "text/plain": [
       "<matplotlib.collections.PathCollection at 0x2b44057c910>"
      ]
     },
     "execution_count": 6,
     "metadata": {},
     "output_type": "execute_result"
    },
    {
     "data": {
      "image/png": "[encoded data removed]",
      "text/plain": [
       "<Figure size 640x480 with 1 Axes>"
      ]
     },
     "metadata": {},
     "output_type": "display_data"
    }
   ],
   "source": [
    "# this could be noted that this data actually has an outlier that can distub are prediction and that outlier is ambigous\n",
    "# it is a very large value for ic50\n",
    "y = data.IC50\n",
    "x = data.index\n",
    "plt.scatter(x,y)"
   ]
  },
  {
   "cell_type": "code",
   "execution_count": null,
   "id": "b8ce97b5",
   "metadata": {},
   "outputs": [],
   "source": []
  },
  {
   "cell_type": "code",
   "execution_count": 7,
   "id": "65daec30",
   "metadata": {},
   "outputs": [
    {
     "data": {
      "text/plain": [
       "12589254.12"
      ]
     },
     "execution_count": 7,
     "metadata": {},
     "output_type": "execute_result"
    }
   ],
   "source": [
    "# the outlier \n",
    "max(data.IC50)\n",
    "\n"
   ]
  },
  {
   "cell_type": "code",
   "execution_count": 8,
   "id": "00e4bb12",
   "metadata": {},
   "outputs": [],
   "source": [
    "# exercising the outlier out\n",
    "data1 = data[data.IC50 != 12589254.12]"
   ]
  },
  {
   "cell_type": "code",
   "execution_count": 9,
   "id": "2965c158",
   "metadata": {},
   "outputs": [
    {
     "data": {
      "text/plain": [
       "322000.0"
      ]
     },
     "execution_count": 9,
     "metadata": {},
     "output_type": "execute_result"
    }
   ],
   "source": [
    "max(data1.IC50)"
   ]
  },
  {
   "cell_type": "code",
   "execution_count": 10,
   "id": "f5af8a51",
   "metadata": {},
   "outputs": [],
   "source": [
    "data2 = data1[data1.IC50!=322000.0] "
   ]
  },
  {
   "cell_type": "code",
   "execution_count": 11,
   "id": "0a2e22e8",
   "metadata": {},
   "outputs": [
    {
     "data": {
      "text/html": [
       "<div>\n",
       "<style scoped>\n",
       "    .dataframe tbody tr th:only-of-type {\n",
       "        vertical-align: middle;\n",
       "    }\n",
       "\n",
       "    .dataframe tbody tr th {\n",
       "        vertical-align: top;\n",
       "    }\n",
       "\n",
       "    .dataframe thead th {\n",
       "        text-align: right;\n",
       "    }\n",
       "</style>\n",
       "<table border=\"1\" class=\"dataframe\">\n",
       "  <thead>\n",
       "    <tr style=\"text-align: right;\">\n",
       "      <th></th>\n",
       "      <th>index</th>\n",
       "      <th>Molecule ChEMBL ID</th>\n",
       "      <th>Smiles</th>\n",
       "      <th>IC50</th>\n",
       "    </tr>\n",
       "  </thead>\n",
       "  <tbody>\n",
       "    <tr>\n",
       "      <th>0</th>\n",
       "      <td>0</td>\n",
       "      <td>CHEMBL103307</td>\n",
       "      <td>O=C1Nc2ccccc2/C1=C\\c1ccc(O)cc1</td>\n",
       "      <td>1800.0</td>\n",
       "    </tr>\n",
       "    <tr>\n",
       "      <th>1</th>\n",
       "      <td>1</td>\n",
       "      <td>CHEMBL602074</td>\n",
       "      <td>Cc1cc(C)c(/C=C2\\C(=O)Nc3ccc(-c4cccnc4)cc32)[nH]1</td>\n",
       "      <td>2300.0</td>\n",
       "    </tr>\n",
       "    <tr>\n",
       "      <th>2</th>\n",
       "      <td>2</td>\n",
       "      <td>CHEMBL222728</td>\n",
       "      <td>Nc1n[nH]c2cccc(-c3ccc(NC(=O)Nc4cccc(Br)c4)cc3)c12</td>\n",
       "      <td>106.0</td>\n",
       "    </tr>\n",
       "    <tr>\n",
       "      <th>3</th>\n",
       "      <td>3</td>\n",
       "      <td>CHEMBL221053</td>\n",
       "      <td>CCc1cccc(NC(=O)Nc2ccc(-c3cccc4[nH]nc(N)c34)cc2)c1</td>\n",
       "      <td>55.0</td>\n",
       "    </tr>\n",
       "    <tr>\n",
       "      <th>4</th>\n",
       "      <td>4</td>\n",
       "      <td>CHEMBL1336</td>\n",
       "      <td>CNC(=O)c1cc(Oc2ccc(NC(=O)Nc3ccc(Cl)c(C(F)(F)F)...</td>\n",
       "      <td>58.0</td>\n",
       "    </tr>\n",
       "    <tr>\n",
       "      <th>...</th>\n",
       "      <td>...</td>\n",
       "      <td>...</td>\n",
       "      <td>...</td>\n",
       "      <td>...</td>\n",
       "    </tr>\n",
       "    <tr>\n",
       "      <th>2992</th>\n",
       "      <td>2994</td>\n",
       "      <td>CHEMBL3814654</td>\n",
       "      <td>O=C1c2cc(-c3cn[nH]c3)ccc2-c2[nH]c3cc(-c4cn[nH]...</td>\n",
       "      <td>126.0</td>\n",
       "    </tr>\n",
       "    <tr>\n",
       "      <th>2993</th>\n",
       "      <td>2995</td>\n",
       "      <td>CHEMBL3793933</td>\n",
       "      <td>CN(C)C(=O)c1ccc(NC(=O)c2n[nH]c3ccccc23)cc1</td>\n",
       "      <td>110.0</td>\n",
       "    </tr>\n",
       "    <tr>\n",
       "      <th>2994</th>\n",
       "      <td>2996</td>\n",
       "      <td>CHEMBL5072454</td>\n",
       "      <td>COc1cc(N2CCCC2)ccc1NC(=O)c1cnn2ccc(N[C@@H]3CCC...</td>\n",
       "      <td>7.1</td>\n",
       "    </tr>\n",
       "    <tr>\n",
       "      <th>2995</th>\n",
       "      <td>2997</td>\n",
       "      <td>CHEMBL5094510</td>\n",
       "      <td>O=C(Nc1ccc(N2CCOCC2)cc1)c1cnn2ccc(N[C@@H]3CCCN...</td>\n",
       "      <td>21.6</td>\n",
       "    </tr>\n",
       "    <tr>\n",
       "      <th>2996</th>\n",
       "      <td>2998</td>\n",
       "      <td>CHEMBL5089908</td>\n",
       "      <td>CN1CCC[C@@H](Nc2ccn3ncc(C(=O)Nc4ccc(N5CCOCC5)c...</td>\n",
       "      <td>180.8</td>\n",
       "    </tr>\n",
       "  </tbody>\n",
       "</table>\n",
       "<p>2997 rows × 4 columns</p>\n",
       "</div>"
      ],
      "text/plain": [
       "      index Molecule ChEMBL ID  \\\n",
       "0         0       CHEMBL103307   \n",
       "1         1       CHEMBL602074   \n",
       "2         2       CHEMBL222728   \n",
       "3         3       CHEMBL221053   \n",
       "4         4         CHEMBL1336   \n",
       "...     ...                ...   \n",
       "2992   2994      CHEMBL3814654   \n",
       "2993   2995      CHEMBL3793933   \n",
       "2994   2996      CHEMBL5072454   \n",
       "2995   2997      CHEMBL5094510   \n",
       "2996   2998      CHEMBL5089908   \n",
       "\n",
       "                                                 Smiles    IC50  \n",
       "0                        O=C1Nc2ccccc2/C1=C\\c1ccc(O)cc1  1800.0  \n",
       "1      Cc1cc(C)c(/C=C2\\C(=O)Nc3ccc(-c4cccnc4)cc32)[nH]1  2300.0  \n",
       "2     Nc1n[nH]c2cccc(-c3ccc(NC(=O)Nc4cccc(Br)c4)cc3)c12   106.0  \n",
       "3     CCc1cccc(NC(=O)Nc2ccc(-c3cccc4[nH]nc(N)c34)cc2)c1    55.0  \n",
       "4     CNC(=O)c1cc(Oc2ccc(NC(=O)Nc3ccc(Cl)c(C(F)(F)F)...    58.0  \n",
       "...                                                 ...     ...  \n",
       "2992  O=C1c2cc(-c3cn[nH]c3)ccc2-c2[nH]c3cc(-c4cn[nH]...   126.0  \n",
       "2993         CN(C)C(=O)c1ccc(NC(=O)c2n[nH]c3ccccc23)cc1   110.0  \n",
       "2994  COc1cc(N2CCCC2)ccc1NC(=O)c1cnn2ccc(N[C@@H]3CCC...     7.1  \n",
       "2995  O=C(Nc1ccc(N2CCOCC2)cc1)c1cnn2ccc(N[C@@H]3CCCN...    21.6  \n",
       "2996  CN1CCC[C@@H](Nc2ccn3ncc(C(=O)Nc4ccc(N5CCOCC5)c...   180.8  \n",
       "\n",
       "[2997 rows x 4 columns]"
      ]
     },
     "execution_count": 11,
     "metadata": {},
     "output_type": "execute_result"
    }
   ],
   "source": [
    "data3=data2.reset_index()\n",
    "data3"
   ]
  },
  {
   "cell_type": "code",
   "execution_count": null,
   "id": "967fb202",
   "metadata": {},
   "outputs": [],
   "source": []
  },
  {
   "cell_type": "code",
   "execution_count": 12,
   "id": "a95eb893",
   "metadata": {},
   "outputs": [
    {
     "data": {
      "text/plain": [
       "<matplotlib.collections.PathCollection at 0x2b4407b1dd0>"
      ]
     },
     "execution_count": 12,
     "metadata": {},
     "output_type": "execute_result"
    },
    {
     "data": {
      "image/png": "[encoded data removed]",
      "text/plain": [
       "<Figure size 640x480 with 1 Axes>"
      ]
     },
     "metadata": {},
     "output_type": "display_data"
    }
   ],
   "source": [
    "# checking the deletion\n",
    "y = data3.IC50\n",
    "x = data3.index\n",
    "# data after cleaning\n",
    "plt.scatter(x,y)"
   ]
  },
  {
   "cell_type": "code",
   "execution_count": 13,
   "id": "6f6329b7",
   "metadata": {
    "scrolled": true
   },
   "outputs": [
    {
     "data": {
      "text/html": [
       "<div>\n",
       "<style scoped>\n",
       "    .dataframe tbody tr th:only-of-type {\n",
       "        vertical-align: middle;\n",
       "    }\n",
       "\n",
       "    .dataframe tbody tr th {\n",
       "        vertical-align: top;\n",
       "    }\n",
       "\n",
       "    .dataframe thead th {\n",
       "        text-align: right;\n",
       "    }\n",
       "</style>\n",
       "<table border=\"1\" class=\"dataframe\">\n",
       "  <thead>\n",
       "    <tr style=\"text-align: right;\">\n",
       "      <th></th>\n",
       "      <th>index</th>\n",
       "      <th>IC50</th>\n",
       "    </tr>\n",
       "  </thead>\n",
       "  <tbody>\n",
       "    <tr>\n",
       "      <th>count</th>\n",
       "      <td>2997.000000</td>\n",
       "      <td>2997.000000</td>\n",
       "    </tr>\n",
       "    <tr>\n",
       "      <th>mean</th>\n",
       "      <td>1498.506840</td>\n",
       "      <td>1867.714129</td>\n",
       "    </tr>\n",
       "    <tr>\n",
       "      <th>std</th>\n",
       "      <td>865.959201</td>\n",
       "      <td>6004.030883</td>\n",
       "    </tr>\n",
       "    <tr>\n",
       "      <th>min</th>\n",
       "      <td>0.000000</td>\n",
       "      <td>0.015000</td>\n",
       "    </tr>\n",
       "    <tr>\n",
       "      <th>25%</th>\n",
       "      <td>749.000000</td>\n",
       "      <td>10.150000</td>\n",
       "    </tr>\n",
       "    <tr>\n",
       "      <th>50%</th>\n",
       "      <td>1498.000000</td>\n",
       "      <td>70.000000</td>\n",
       "    </tr>\n",
       "    <tr>\n",
       "      <th>75%</th>\n",
       "      <td>2248.000000</td>\n",
       "      <td>875.000000</td>\n",
       "    </tr>\n",
       "    <tr>\n",
       "      <th>max</th>\n",
       "      <td>2998.000000</td>\n",
       "      <td>100000.000000</td>\n",
       "    </tr>\n",
       "  </tbody>\n",
       "</table>\n",
       "</div>"
      ],
      "text/plain": [
       "             index           IC50\n",
       "count  2997.000000    2997.000000\n",
       "mean   1498.506840    1867.714129\n",
       "std     865.959201    6004.030883\n",
       "min       0.000000       0.015000\n",
       "25%     749.000000      10.150000\n",
       "50%    1498.000000      70.000000\n",
       "75%    2248.000000     875.000000\n",
       "max    2998.000000  100000.000000"
      ]
     },
     "execution_count": 13,
     "metadata": {},
     "output_type": "execute_result"
    }
   ],
   "source": [
    "data3.describe()\n",
    "# this can be that the data distribution is not good and it has high std \n",
    "#  to reduce it data normalization is required"
   ]
  },
  {
   "cell_type": "code",
   "execution_count": null,
   "id": "3d6ceaa2",
   "metadata": {},
   "outputs": [],
   "source": []
  },
  {
   "cell_type": "code",
   "execution_count": null,
   "id": "2dbb9fb8",
   "metadata": {},
   "outputs": [],
   "source": [
    "# data normalization\n",
    "# adding more features to given data to make it more variable in training\n",
    "# activity gives more variablity to close values of EC50 so that model would  train better \n",
    "data3[\"activity\"]= np.log10(data3.IC50)"
   ]
  },
  {
   "cell_type": "code",
   "execution_count": null,
   "id": "3a592aa1",
   "metadata": {},
   "outputs": [],
   "source": [
    "plt.plot(data3.activity)"
   ]
  },
  {
   "cell_type": "code",
   "execution_count": 16,
   "id": "0305800b",
   "metadata": {},
   "outputs": [
    {
     "data": {
      "text/html": [
       "<div>\n",
       "<style scoped>\n",
       "    .dataframe tbody tr th:only-of-type {\n",
       "        vertical-align: middle;\n",
       "    }\n",
       "\n",
       "    .dataframe tbody tr th {\n",
       "        vertical-align: top;\n",
       "    }\n",
       "\n",
       "    .dataframe thead th {\n",
       "        text-align: right;\n",
       "    }\n",
       "</style>\n",
       "<table border=\"1\" class=\"dataframe\">\n",
       "  <thead>\n",
       "    <tr style=\"text-align: right;\">\n",
       "      <th></th>\n",
       "      <th>IC50</th>\n",
       "      <th>activity</th>\n",
       "    </tr>\n",
       "  </thead>\n",
       "  <tbody>\n",
       "    <tr>\n",
       "      <th>count</th>\n",
       "      <td>2997.000000</td>\n",
       "      <td>2997.000000</td>\n",
       "    </tr>\n",
       "    <tr>\n",
       "      <th>mean</th>\n",
       "      <td>1867.714129</td>\n",
       "      <td>1.952226</td>\n",
       "    </tr>\n",
       "    <tr>\n",
       "      <th>std</th>\n",
       "      <td>6004.030883</td>\n",
       "      <td>1.257161</td>\n",
       "    </tr>\n",
       "    <tr>\n",
       "      <th>min</th>\n",
       "      <td>0.015000</td>\n",
       "      <td>-1.823909</td>\n",
       "    </tr>\n",
       "    <tr>\n",
       "      <th>25%</th>\n",
       "      <td>10.150000</td>\n",
       "      <td>1.006466</td>\n",
       "    </tr>\n",
       "    <tr>\n",
       "      <th>50%</th>\n",
       "      <td>70.000000</td>\n",
       "      <td>1.845098</td>\n",
       "    </tr>\n",
       "    <tr>\n",
       "      <th>75%</th>\n",
       "      <td>875.000000</td>\n",
       "      <td>2.942008</td>\n",
       "    </tr>\n",
       "    <tr>\n",
       "      <th>max</th>\n",
       "      <td>100000.000000</td>\n",
       "      <td>5.000000</td>\n",
       "    </tr>\n",
       "  </tbody>\n",
       "</table>\n",
       "</div>"
      ],
      "text/plain": [
       "                IC50     activity\n",
       "count    2997.000000  2997.000000\n",
       "mean     1867.714129     1.952226\n",
       "std      6004.030883     1.257161\n",
       "min         0.015000    -1.823909\n",
       "25%        10.150000     1.006466\n",
       "50%        70.000000     1.845098\n",
       "75%       875.000000     2.942008\n",
       "max    100000.000000     5.000000"
      ]
     },
     "execution_count": 16,
     "metadata": {},
     "output_type": "execute_result"
    }
   ],
   "source": [
    "# std is reduced and change can be seen below\n",
    "data2.describe()"
   ]
  },
  {
   "cell_type": "code",
   "execution_count": 17,
   "id": "e5c805b2",
   "metadata": {},
   "outputs": [
    {
     "data": {
      "text/html": [
       "<div>\n",
       "<style scoped>\n",
       "    .dataframe tbody tr th:only-of-type {\n",
       "        vertical-align: middle;\n",
       "    }\n",
       "\n",
       "    .dataframe tbody tr th {\n",
       "        vertical-align: top;\n",
       "    }\n",
       "\n",
       "    .dataframe thead th {\n",
       "        text-align: right;\n",
       "    }\n",
       "</style>\n",
       "<table border=\"1\" class=\"dataframe\">\n",
       "  <thead>\n",
       "    <tr style=\"text-align: right;\">\n",
       "      <th></th>\n",
       "      <th>Molecule ChEMBL ID</th>\n",
       "      <th>Smiles</th>\n",
       "      <th>IC50</th>\n",
       "      <th>activity</th>\n",
       "    </tr>\n",
       "  </thead>\n",
       "  <tbody>\n",
       "    <tr>\n",
       "      <th>0</th>\n",
       "      <td>CHEMBL103307</td>\n",
       "      <td>O=C1Nc2ccccc2/C1=C\\c1ccc(O)cc1</td>\n",
       "      <td>1800.0</td>\n",
       "      <td>3.255273</td>\n",
       "    </tr>\n",
       "    <tr>\n",
       "      <th>1</th>\n",
       "      <td>CHEMBL602074</td>\n",
       "      <td>Cc1cc(C)c(/C=C2\\C(=O)Nc3ccc(-c4cccnc4)cc32)[nH]1</td>\n",
       "      <td>2300.0</td>\n",
       "      <td>3.361728</td>\n",
       "    </tr>\n",
       "    <tr>\n",
       "      <th>2</th>\n",
       "      <td>CHEMBL222728</td>\n",
       "      <td>Nc1n[nH]c2cccc(-c3ccc(NC(=O)Nc4cccc(Br)c4)cc3)c12</td>\n",
       "      <td>106.0</td>\n",
       "      <td>2.025306</td>\n",
       "    </tr>\n",
       "    <tr>\n",
       "      <th>3</th>\n",
       "      <td>CHEMBL221053</td>\n",
       "      <td>CCc1cccc(NC(=O)Nc2ccc(-c3cccc4[nH]nc(N)c34)cc2)c1</td>\n",
       "      <td>55.0</td>\n",
       "      <td>1.740363</td>\n",
       "    </tr>\n",
       "    <tr>\n",
       "      <th>4</th>\n",
       "      <td>CHEMBL1336</td>\n",
       "      <td>CNC(=O)c1cc(Oc2ccc(NC(=O)Nc3ccc(Cl)c(C(F)(F)F)...</td>\n",
       "      <td>58.0</td>\n",
       "      <td>1.763428</td>\n",
       "    </tr>\n",
       "  </tbody>\n",
       "</table>\n",
       "</div>"
      ],
      "text/plain": [
       "  Molecule ChEMBL ID                                             Smiles  \\\n",
       "0       CHEMBL103307                     O=C1Nc2ccccc2/C1=C\\c1ccc(O)cc1   \n",
       "1       CHEMBL602074   Cc1cc(C)c(/C=C2\\C(=O)Nc3ccc(-c4cccnc4)cc32)[nH]1   \n",
       "2       CHEMBL222728  Nc1n[nH]c2cccc(-c3ccc(NC(=O)Nc4cccc(Br)c4)cc3)c12   \n",
       "3       CHEMBL221053  CCc1cccc(NC(=O)Nc2ccc(-c3cccc4[nH]nc(N)c34)cc2)c1   \n",
       "4         CHEMBL1336  CNC(=O)c1cc(Oc2ccc(NC(=O)Nc3ccc(Cl)c(C(F)(F)F)...   \n",
       "\n",
       "     IC50  activity  \n",
       "0  1800.0  3.255273  \n",
       "1  2300.0  3.361728  \n",
       "2   106.0  2.025306  \n",
       "3    55.0  1.740363  \n",
       "4    58.0  1.763428  "
      ]
     },
     "execution_count": 17,
     "metadata": {},
     "output_type": "execute_result"
    }
   ],
   "source": [
    "data2.head()"
   ]
  },
  {
   "cell_type": "code",
   "execution_count": 18,
   "id": "b65e115f",
   "metadata": {},
   "outputs": [],
   "source": [
    "import rdkit\n",
    "from rdkit import Chem\n",
    "from rdkit.Chem import Descriptors,rdMolDescriptors"
   ]
  },
  {
   "cell_type": "code",
   "execution_count": 19,
   "id": "b834f155",
   "metadata": {},
   "outputs": [],
   "source": [
    "molecule =[Chem.MolFromSmiles(smiles) for smiles in data2.Smiles]"
   ]
  },
  {
   "cell_type": "code",
   "execution_count": 20,
   "id": "ba7a13bd",
   "metadata": {},
   "outputs": [],
   "source": [
    "morgan_fgs = [rdMolDescriptors.GetMorganFingerprintAsBitVect(mol,2,nBits = 1024) for mol in molecule]"
   ]
  },
  {
   "cell_type": "code",
   "execution_count": 21,
   "id": "2cd59b30",
   "metadata": {},
   "outputs": [
    {
     "data": {
      "text/plain": [
       "2997"
      ]
     },
     "execution_count": 21,
     "metadata": {},
     "output_type": "execute_result"
    }
   ],
   "source": [
    "x= np.array(morgan_fgs,dtype = float)\n",
    "len(x)"
   ]
  },
  {
   "cell_type": "code",
   "execution_count": 22,
   "id": "76311b36",
   "metadata": {},
   "outputs": [],
   "source": [
    "import sklearn\n",
    "from sklearn.preprocessing import StandardScaler"
   ]
  },
  {
   "cell_type": "code",
   "execution_count": 23,
   "id": "d6949ca4",
   "metadata": {},
   "outputs": [],
   "source": [
    "scaler = StandardScaler()\n",
    "x = scaler.fit_transform(x)"
   ]
  },
  {
   "cell_type": "code",
   "execution_count": 24,
   "id": "9c33ef65",
   "metadata": {
    "scrolled": true
   },
   "outputs": [
    {
     "data": {
      "text/plain": [
       "array([[-0.02584143, -0.44694497, -0.2374818 , ..., -0.14414079,\n",
       "        -0.14534222, -0.05173471],\n",
       "       [-0.02584143, -0.44694497, -0.2374818 , ..., -0.14414079,\n",
       "        -0.14534222, 19.32938178],\n",
       "       [-0.02584143, -0.44694497, -0.2374818 , ..., -0.14414079,\n",
       "        -0.14534222, -0.05173471],\n",
       "       ...,\n",
       "       [-0.02584143, -0.44694497, -0.2374818 , ...,  6.93766153,\n",
       "        -0.14534222, -0.05173471],\n",
       "       [-0.02584143, -0.44694497, -0.2374818 , ...,  6.93766153,\n",
       "        -0.14534222, -0.05173471],\n",
       "       [-0.02584143, -0.44694497, -0.2374818 , ...,  6.93766153,\n",
       "        -0.14534222, -0.05173471]])"
      ]
     },
     "execution_count": 24,
     "metadata": {},
     "output_type": "execute_result"
    }
   ],
   "source": [
    "x"
   ]
  },
  {
   "cell_type": "code",
   "execution_count": 25,
   "id": "a64f3a5a",
   "metadata": {},
   "outputs": [],
   "source": [
    "from sklearn.model_selection import train_test_split"
   ]
  },
  {
   "cell_type": "code",
   "execution_count": 26,
   "id": "86f0a21a",
   "metadata": {},
   "outputs": [],
   "source": [
    "from sklearn.ensemble import RandomForestRegressor\n",
    "from sklearn.metrics import mean_squared_error, r2_score"
   ]
  },
  {
   "cell_type": "code",
   "execution_count": null,
   "id": "8fd24e7c",
   "metadata": {},
   "outputs": [],
   "source": [
    "\n"
   ]
  },
  {
   "cell_type": "code",
   "execution_count": 27,
   "id": "2639b486",
   "metadata": {},
   "outputs": [],
   "source": [
    "x_train, x_test, y_train, y_test=train_test_split(x,data2.activity,test_size=0.2)"
   ]
  },
  {
   "cell_type": "code",
   "execution_count": 37,
   "id": "3055d234",
   "metadata": {},
   "outputs": [
    {
     "data": {
      "text/html": [
       "<style>#sk-container-id-2 {color: black;background-color: white;}#sk-container-id-2 pre{padding: 0;}#sk-container-id-2 div.sk-toggleable {background-color: white;}#sk-container-id-2 label.sk-toggleable__label {cursor: pointer;display: block;width: 100%;margin-bottom: 0;padding: 0.3em;box-sizing: border-box;text-align: center;}#sk-container-id-2 label.sk-toggleable__label-arrow:before {content: \"▸\";float: left;margin-right: 0.25em;color: #696969;}#sk-container-id-2 label.sk-toggleable__label-arrow:hover:before {color: black;}#sk-container-id-2 div.sk-estimator:hover label.sk-toggleable__label-arrow:before {color: black;}#sk-container-id-2 div.sk-toggleable__content {max-height: 0;max-width: 0;overflow: hidden;text-align: left;background-color: #f0f8ff;}#sk-container-id-2 div.sk-toggleable__content pre {margin: 0.2em;color: black;border-radius: 0.25em;background-color: #f0f8ff;}#sk-container-id-2 input.sk-toggleable__control:checked~div.sk-toggleable__content {max-height: 200px;max-width: 100%;overflow: auto;}#sk-container-id-2 input.sk-toggleable__control:checked~label.sk-toggleable__label-arrow:before {content: \"▾\";}#sk-container-id-2 div.sk-estimator input.sk-toggleable__control:checked~label.sk-toggleable__label {background-color: #d4ebff;}#sk-container-id-2 div.sk-label input.sk-toggleable__control:checked~label.sk-toggleable__label {background-color: #d4ebff;}#sk-container-id-2 input.sk-hidden--visually {border: 0;clip: rect(1px 1px 1px 1px);clip: rect(1px, 1px, 1px, 1px);height: 1px;margin: -1px;overflow: hidden;padding: 0;position: absolute;width: 1px;}#sk-container-id-2 div.sk-estimator {font-family: monospace;background-color: #f0f8ff;border: 1px dotted black;border-radius: 0.25em;box-sizing: border-box;margin-bottom: 0.5em;}#sk-container-id-2 div.sk-estimator:hover {background-color: #d4ebff;}#sk-container-id-2 div.sk-parallel-item::after {content: \"\";width: 100%;border-bottom: 1px solid gray;flex-grow: 1;}#sk-container-id-2 div.sk-label:hover label.sk-toggleable__label {background-color: #d4ebff;}#sk-container-id-2 div.sk-serial::before {content: \"\";position: absolute;border-left: 1px solid gray;box-sizing: border-box;top: 0;bottom: 0;left: 50%;z-index: 0;}#sk-container-id-2 div.sk-serial {display: flex;flex-direction: column;align-items: center;background-color: white;padding-right: 0.2em;padding-left: 0.2em;position: relative;}#sk-container-id-2 div.sk-item {position: relative;z-index: 1;}#sk-container-id-2 div.sk-parallel {display: flex;align-items: stretch;justify-content: center;background-color: white;position: relative;}#sk-container-id-2 div.sk-item::before, #sk-container-id-2 div.sk-parallel-item::before {content: \"\";position: absolute;border-left: 1px solid gray;box-sizing: border-box;top: 0;bottom: 0;left: 50%;z-index: -1;}#sk-container-id-2 div.sk-parallel-item {display: flex;flex-direction: column;z-index: 1;position: relative;background-color: white;}#sk-container-id-2 div.sk-parallel-item:first-child::after {align-self: flex-end;width: 50%;}#sk-container-id-2 div.sk-parallel-item:last-child::after {align-self: flex-start;width: 50%;}#sk-container-id-2 div.sk-parallel-item:only-child::after {width: 0;}#sk-container-id-2 div.sk-dashed-wrapped {border: 1px dashed gray;margin: 0 0.4em 0.5em 0.4em;box-sizing: border-box;padding-bottom: 0.4em;background-color: white;}#sk-container-id-2 div.sk-label label {font-family: monospace;font-weight: bold;display: inline-block;line-height: 1.2em;}#sk-container-id-2 div.sk-label-container {text-align: center;}#sk-container-id-2 div.sk-container {/* jupyter's `normalize.less` sets `[hidden] { display: none; }` but bootstrap.min.css set `[hidden] { display: none !important; }` so we also need the `!important` here to be able to override the default hidden behavior on the sphinx rendered scikit-learn.org. See: https://github.com/scikit-learn/scikit-learn/issues/21755 */display: inline-block !important;position: relative;}#sk-container-id-2 div.sk-text-repr-fallback {display: none;}</style><div id=\"sk-container-id-2\" class=\"sk-top-container\"><div class=\"sk-text-repr-fallback\"><pre>RandomForestRegressor(n_estimators=1000, random_state=42)</pre><b>In a Jupyter environment, please rerun this cell to show the HTML representation or trust the notebook. <br />On GitHub, the HTML representation is unable to render, please try loading this page with nbviewer.org.</b></div><div class=\"sk-container\" hidden><div class=\"sk-item\"><div class=\"sk-estimator sk-toggleable\"><input class=\"sk-toggleable__control sk-hidden--visually\" id=\"sk-estimator-id-2\" type=\"checkbox\" checked><label for=\"sk-estimator-id-2\" class=\"sk-toggleable__label sk-toggleable__label-arrow\">RandomForestRegressor</label><div class=\"sk-toggleable__content\"><pre>RandomForestRegressor(n_estimators=1000, random_state=42)</pre></div></div></div></div></div>"
      ],
      "text/plain": [
       "RandomForestRegressor(n_estimators=1000, random_state=42)"
      ]
     },
     "execution_count": 37,
     "metadata": {},
     "output_type": "execute_result"
    }
   ],
   "source": [
    "# np.random.seed(100)\n",
    "model = RandomForestRegressor(n_estimators = 1000, random_state=42)\n",
    "model.fit(x_train, y_train)\n",
    "\n",
    "    "
   ]
  },
  {
   "cell_type": "code",
   "execution_count": 38,
   "id": "68a65637",
   "metadata": {},
   "outputs": [],
   "source": [
    "y_pred = model.predict(x_test)\n"
   ]
  },
  {
   "cell_type": "code",
   "execution_count": 39,
   "id": "91928d8e",
   "metadata": {},
   "outputs": [],
   "source": [
    "from sklearn.metrics import r2_score, mean_squared_error"
   ]
  },
  {
   "cell_type": "code",
   "execution_count": 40,
   "id": "9c777d5e",
   "metadata": {},
   "outputs": [
    {
     "data": {
      "text/plain": [
       "0.7075528993516726"
      ]
     },
     "execution_count": 40,
     "metadata": {},
     "output_type": "execute_result"
    }
   ],
   "source": [
    "r2_value = r2_score(y_test, y_pred)\n",
    "r2_value"
   ]
  },
  {
   "cell_type": "code",
   "execution_count": 41,
   "id": "2f370161",
   "metadata": {},
   "outputs": [
    {
     "data": {
      "text/plain": [
       "0.47855223756017995"
      ]
     },
     "execution_count": 41,
     "metadata": {},
     "output_type": "execute_result"
    }
   ],
   "source": [
    "mse = mean_squared_error(y_test,y_pred)\n",
    "mse"
   ]
  },
  {
   "cell_type": "code",
   "execution_count": null,
   "id": "574c1750",
   "metadata": {},
   "outputs": [],
   "source": []
  },
  {
   "cell_type": "code",
   "execution_count": null,
   "id": "e0ac4bf0",
   "metadata": {},
   "outputs": [],
   "source": []
  },
  {
   "cell_type": "code",
   "execution_count": 42,
   "id": "424f512d",
   "metadata": {},
   "outputs": [
    {
     "data": {
      "image/png": "[encoded data removed]",
      "text/plain": [
       "<Figure size 1000x500 with 2 Axes>"
      ]
     },
     "metadata": {},
     "output_type": "display_data"
    }
   ],
   "source": [
    "# comparsion of test and prediction\n",
    "import matplotlib.pyplot as plt\n",
    "\n",
    "\n",
    "x1 = np.arange(len(y_test))\n",
    "y1 = y_test\n",
    "\n",
    "\n",
    "x2 = np.arange(len(y_pred))\n",
    "y2 = y_pred\n",
    "\n",
    "\n",
    "fig, (ax1, ax2) = plt.subplots(1, 2, figsize=(10, 5))\n",
    "\n",
    "\n",
    "ax1.scatter(x1, y1, color='blue', label='Plot 1')\n",
    "ax1.set_title('y test')\n",
    "ax1.set_xlabel('Smiles')\n",
    "ax1.set_ylabel('IC50')\n",
    "\n",
    "ax2.scatter(x2, y2, color='red', label='Plot 2')\n",
    "ax2.set_title('y pred')\n",
    "ax2.set_xlabel('Smiles')\n",
    "ax2.set_ylabel('IC50')\n",
    "\n",
    "\n",
    "plt.tight_layout()\n",
    "\n",
    "\n",
    "plt.show()\n"
   ]
  },
  {
   "cell_type": "code",
   "execution_count": null,
   "id": "1d3eda7d",
   "metadata": {},
   "outputs": [],
   "source": []
  },
  {
   "cell_type": "code",
   "execution_count": null,
   "id": "01ec46a3",
   "metadata": {},
   "outputs": [],
   "source": []
  },
  {
   "cell_type": "code",
   "execution_count": null,
   "id": "a389e66f",
   "metadata": {},
   "outputs": [],
   "source": []
  }
 ],
 "metadata": {
  "kernelspec": {
   "display_name": "Python 3 (ipykernel)",
   "language": "python",
   "name": "python3"
  },
  "language_info": {
   "codemirror_mode": {
    "name": "ipython",
    "version": 3
   },
   "file_extension": ".py",
   "mimetype": "text/x-python",
   "name": "python",
   "nbconvert_exporter": "python",
   "pygments_lexer": "ipython3",
   "version": "3.11.3"
  }
 },
 "nbformat": 4,
 "nbformat_minor": 5
}
